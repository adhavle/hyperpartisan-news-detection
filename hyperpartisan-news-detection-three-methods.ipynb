{
 "cells": [
  {
   "cell_type": "markdown",
   "id": "9779f85a-7463-481a-8527-155cfea82cd9",
   "metadata": {},
   "source": [
    "# Classifying Partisan Bias in News Articles\n",
    "- I am attempting to replicate some of the methods used in [Classifying Partisan Bias in News Articles:\n",
    " Leveraging an Understanding of Political Language\n",
    " and Article Structure](https://web.stanford.edu/class/archive/cs/cs224n/cs224n.1234/final-reports/final-report-169502805.pdf), which uses a dataset from a competition on detecting hyperpartisan and fake news.\n",
    "- Dataset location [Data for PAN at SemEval 2019 Task 4: Hyperpartisan News Detection](https://zenodo.org/records/1489920)\n",
    "- Also see [Hyperpartisan News Detection 2019](https://pan.webis.de/semeval19/semeval19-web/#data) and [SemEval-2019 Task 4: Hyperpartisan News Detection](https://aclanthology.org/S19-2145.pdf)\n"
   ]
  },
  {
   "cell_type": "code",
   "execution_count": 1,
   "id": "c0dde696-9068-4bd5-bba2-cfeff7051bd7",
   "metadata": {
    "execution": {
     "iopub.execute_input": "2025-08-23T01:33:27.755882Z",
     "iopub.status.busy": "2025-08-23T01:33:27.755634Z",
     "iopub.status.idle": "2025-08-23T01:33:30.849299Z",
     "shell.execute_reply": "2025-08-23T01:33:30.848143Z",
     "shell.execute_reply.started": "2025-08-23T01:33:27.755867Z"
    }
   },
   "outputs": [
    {
     "name": "stderr",
     "output_type": "stream",
     "text": [
      "2025-08-22 18:33:29.036082: I tensorflow/core/platform/cpu_feature_guard.cc:210] This TensorFlow binary is optimized to use available CPU instructions in performance-critical operations.\n",
      "To enable the following instructions: AVX2 FMA, in other operations, rebuild TensorFlow with the appropriate compiler flags.\n"
     ]
    }
   ],
   "source": [
    "import matplotlib.pyplot as plt\n",
    "import numpy as np\n",
    "import os\n",
    "import pandas as pd\n",
    "import seaborn as sns\n",
    "import time\n",
    "\n",
    "import xgboost as xgb\n",
    "from sklearn.feature_extraction import text\n",
    "from sklearn.feature_extraction.text import TfidfVectorizer\n",
    "from sklearn.model_selection import train_test_split\n",
    "from sklearn.linear_model import LogisticRegression\n",
    "from sklearn.metrics import accuracy_score\n",
    "from sklearn.pipeline import Pipeline\n",
    "from sklearn.model_selection import GridSearchCV\n",
    "from xgboost import XGBClassifier\n",
    "\n",
    "import tensorflow as tf\n",
    "from tensorflow.keras.models import Sequential\n",
    "from tensorflow.keras.layers import Embedding, Conv1D, GlobalMaxPooling1D, Dense, Dropout, TextVectorization\n",
    "from tensorflow.keras.preprocessing import sequence"
   ]
  },
  {
   "cell_type": "code",
   "execution_count": 2,
   "id": "fbab202c-9263-45e1-8164-1c03fd308608",
   "metadata": {
    "execution": {
     "iopub.execute_input": "2025-08-23T01:33:30.850553Z",
     "iopub.status.busy": "2025-08-23T01:33:30.850161Z",
     "iopub.status.idle": "2025-08-23T01:33:30.854557Z",
     "shell.execute_reply": "2025-08-23T01:33:30.853572Z",
     "shell.execute_reply.started": "2025-08-23T01:33:30.850538Z"
    }
   },
   "outputs": [],
   "source": [
    "def dataset_file_path(fname):\n",
    "    return os.path.join(os.path.join(os.getcwd(), \"dataset\", fname))"
   ]
  },
  {
   "cell_type": "markdown",
   "id": "29f54358-dd11-4609-b3ed-87b54e071eff",
   "metadata": {},
   "source": [
    "#### Comments\n",
    " - The dataset is downloaded to, and prepared in, the `dataset` dir\n",
    " - `articles-validation-bypublisher-20181122-html-escaped.xml` contains a list of 150,000 news articles (sourced online)\n",
    " - `ground-truth-validation-bypublisher-20181122.xml` contains the targets for these articles\n",
    " - Targets are `left`, `left-center`, `least`, `right-center`, `right`"
   ]
  },
  {
   "cell_type": "code",
   "execution_count": 3,
   "id": "62ce9678-537d-477e-be0f-8a0a77a5ae28",
   "metadata": {
    "execution": {
     "iopub.execute_input": "2025-08-22T23:34:51.747888Z",
     "iopub.status.busy": "2025-08-22T23:34:51.747629Z",
     "iopub.status.idle": "2025-08-22T23:34:51.751838Z",
     "shell.execute_reply": "2025-08-22T23:34:51.750995Z",
     "shell.execute_reply.started": "2025-08-22T23:34:51.747873Z"
    }
   },
   "outputs": [],
   "source": [
    "training_data_file = dataset_file_path(\"articles-validation-bypublisher-20181122-html-escaped.xml\")\n",
    "target_data_file = dataset_file_path(\"ground-truth-validation-bypublisher-20181122.xml\")"
   ]
  },
  {
   "cell_type": "code",
   "execution_count": 4,
   "id": "ab6b8a92-3b88-43d2-b34c-09fb3b772671",
   "metadata": {
    "execution": {
     "iopub.execute_input": "2025-08-22T23:34:52.516679Z",
     "iopub.status.busy": "2025-08-22T23:34:52.516406Z",
     "iopub.status.idle": "2025-08-22T23:35:20.813215Z",
     "shell.execute_reply": "2025-08-22T23:35:20.811971Z",
     "shell.execute_reply.started": "2025-08-22T23:34:52.516664Z"
    }
   },
   "outputs": [],
   "source": [
    "datadf = pd.read_xml(path_or_buffer = training_data_file)\n",
    "targetdf = pd.read_xml(path_or_buffer = target_data_file)\n",
    "df = pd.concat([datadf, targetdf], axis = 1)\n",
    "df.columns = [\n",
    "    'id',\n",
    "    'published-at',\n",
    "    'title',\n",
    "    'article',\n",
    "    'id2',\n",
    "    'hyperpartisan',\n",
    "    'bias',\n",
    "    'url',\n",
    "    'labeled-by'\n",
    "]"
   ]
  },
  {
   "cell_type": "markdown",
   "id": "64050d98-e264-4a88-a63d-f315b37bacb5",
   "metadata": {},
   "source": [
    "#### Comments\n",
    "- Training data and targets are now in a single dataframe.\n",
    "- There should be 150,000 articles\n",
    "- The `id` field from training and target sets should match\n",
    "- No record should have an empty `article` or `bias` field"
   ]
  },
  {
   "cell_type": "code",
   "execution_count": 5,
   "id": "1e2ed403-2e00-4829-9811-56b5dbcfb471",
   "metadata": {
    "execution": {
     "iopub.execute_input": "2025-08-22T23:35:22.235943Z",
     "iopub.status.busy": "2025-08-22T23:35:22.235681Z",
     "iopub.status.idle": "2025-08-22T23:35:22.325297Z",
     "shell.execute_reply": "2025-08-22T23:35:22.324587Z",
     "shell.execute_reply.started": "2025-08-22T23:35:22.235918Z"
    }
   },
   "outputs": [
    {
     "name": "stdout",
     "output_type": "stream",
     "text": [
      "PASS: dataframe has 150000 records as expected\n",
      "PASS: no null values detected for column 'id'\n",
      "PASS: no null values detected for column 'id2'\n",
      "PASS: no null values detected for column 'article'\n",
      "PASS: no null values detected for column 'bias'\n",
      "PASS: all article IDs from training file and target file matched (id == id2 for all records)\n"
     ]
    }
   ],
   "source": [
    "# run some test cases to ensure the data is good\n",
    "if len(df) == 150_000:\n",
    "    print(f\"PASS: dataframe has {len(df)} records as expected\")\n",
    "else:\n",
    "    print(f\"FAIL: dataframe has {len(df)} records - expected 150,000\")\n",
    "\n",
    "def validate_column_does_not_have_null_values(column_name):\n",
    "    if df[column_name].isnull().sum() == 0:\n",
    "        print(f\"PASS: no null values detected for column '{column_name}'\")\n",
    "    else:\n",
    "        print(f\"FAIL: {df[column_name].isnull().sum()} null values for column '{column_name}' not expected\")\n",
    "\n",
    "validate_column_does_not_have_null_values(\"id\")\n",
    "validate_column_does_not_have_null_values(\"id2\")\n",
    "validate_column_does_not_have_null_values(\"article\")\n",
    "validate_column_does_not_have_null_values(\"bias\")\n",
    "\n",
    "id_matches = df['id'] == df['id2']\n",
    "n_not_matched = id_matches.value_counts().get(False, 0)\n",
    "n_matched = id_matches.value_counts().get(True, 0)\n",
    "if n_matched == 150_000 and n_not_matched == 0:\n",
    "    print(f\"PASS: all article IDs from training file and target file matched (id == id2 for all records)\")\n",
    "else:\n",
    "    print(f\"FAIL: {n_matched} article IDs from training file matched, BUT {n_not_matched} article IDs did not match\")"
   ]
  },
  {
   "cell_type": "code",
   "execution_count": 6,
   "id": "2f5e2a99-25a3-42a4-945c-812f2a8d6ec7",
   "metadata": {
    "execution": {
     "iopub.execute_input": "2025-08-22T23:35:28.197388Z",
     "iopub.status.busy": "2025-08-22T23:35:28.197127Z",
     "iopub.status.idle": "2025-08-22T23:35:28.271762Z",
     "shell.execute_reply": "2025-08-22T23:35:28.271032Z",
     "shell.execute_reply.started": "2025-08-22T23:35:28.197373Z"
    }
   },
   "outputs": [
    {
     "name": "stdout",
     "output_type": "stream",
     "text": [
      "<class 'pandas.core.frame.DataFrame'>\n",
      "RangeIndex: 150000 entries, 0 to 149999\n",
      "Data columns (total 9 columns):\n",
      " #   Column         Non-Null Count   Dtype \n",
      "---  ------         --------------   ----- \n",
      " 0   id             150000 non-null  int64 \n",
      " 1   published-at   100492 non-null  object\n",
      " 2   title          137723 non-null  object\n",
      " 3   article        150000 non-null  object\n",
      " 4   id2            150000 non-null  int64 \n",
      " 5   hyperpartisan  150000 non-null  bool  \n",
      " 6   bias           150000 non-null  object\n",
      " 7   url            150000 non-null  object\n",
      " 8   labeled-by     150000 non-null  object\n",
      "dtypes: bool(1), int64(2), object(6)\n",
      "memory usage: 9.3+ MB\n"
     ]
    }
   ],
   "source": [
    "df.info()"
   ]
  },
  {
   "cell_type": "markdown",
   "id": "aa266e85-3714-4cff-b4bc-7e35d34ef213",
   "metadata": {},
   "source": [
    "#### Comments\n",
    " - The `bias` column is the target\n",
    " - `hyperpartisan` column is related to `bias`\n",
    " - Let's inspect the range of values for `bias`, and how they map to `hyperpartisan`"
   ]
  },
  {
   "cell_type": "code",
   "execution_count": 7,
   "id": "76f1a233-c17e-46df-9a8f-087684195714",
   "metadata": {
    "execution": {
     "iopub.execute_input": "2025-08-22T23:35:29.809735Z",
     "iopub.status.busy": "2025-08-22T23:35:29.809483Z",
     "iopub.status.idle": "2025-08-22T23:35:29.835702Z",
     "shell.execute_reply": "2025-08-22T23:35:29.834739Z",
     "shell.execute_reply.started": "2025-08-22T23:35:29.809720Z"
    }
   },
   "outputs": [
    {
     "data": {
      "text/html": [
       "<div>\n",
       "<style scoped>\n",
       "    .dataframe tbody tr th:only-of-type {\n",
       "        vertical-align: middle;\n",
       "    }\n",
       "\n",
       "    .dataframe tbody tr th {\n",
       "        vertical-align: top;\n",
       "    }\n",
       "\n",
       "    .dataframe thead th {\n",
       "        text-align: right;\n",
       "    }\n",
       "</style>\n",
       "<table border=\"1\" class=\"dataframe\">\n",
       "  <thead>\n",
       "    <tr style=\"text-align: right;\">\n",
       "      <th></th>\n",
       "      <th>hyperpartisan</th>\n",
       "      <th>bias</th>\n",
       "      <th>count</th>\n",
       "    </tr>\n",
       "  </thead>\n",
       "  <tbody>\n",
       "    <tr>\n",
       "      <th>0</th>\n",
       "      <td>False</td>\n",
       "      <td>least</td>\n",
       "      <td>38296</td>\n",
       "    </tr>\n",
       "    <tr>\n",
       "      <th>1</th>\n",
       "      <td>False</td>\n",
       "      <td>left-center</td>\n",
       "      <td>23473</td>\n",
       "    </tr>\n",
       "    <tr>\n",
       "      <th>2</th>\n",
       "      <td>False</td>\n",
       "      <td>right-center</td>\n",
       "      <td>13231</td>\n",
       "    </tr>\n",
       "    <tr>\n",
       "      <th>3</th>\n",
       "      <td>True</td>\n",
       "      <td>left</td>\n",
       "      <td>37500</td>\n",
       "    </tr>\n",
       "    <tr>\n",
       "      <th>4</th>\n",
       "      <td>True</td>\n",
       "      <td>right</td>\n",
       "      <td>37500</td>\n",
       "    </tr>\n",
       "  </tbody>\n",
       "</table>\n",
       "</div>"
      ],
      "text/plain": [
       "   hyperpartisan          bias  count\n",
       "0          False         least  38296\n",
       "1          False   left-center  23473\n",
       "2          False  right-center  13231\n",
       "3           True          left  37500\n",
       "4           True         right  37500"
      ]
     },
     "metadata": {},
     "output_type": "display_data"
    }
   ],
   "source": [
    "hy_df = df.groupby(['hyperpartisan', 'bias'])['bias'].count()\n",
    "h, b, c = [], [], []\n",
    "for k,v in hy_df.items():\n",
    "    h.append(k[0])\n",
    "    b.append(k[1])\n",
    "    c.append(v)\n",
    "\n",
    "pd.options.display.max_rows = len(h)\n",
    "display(pd.DataFrame({\"hyperpartisan\": h, \"bias\": b, \"count\": c}))"
   ]
  },
  {
   "cell_type": "markdown",
   "id": "92443dbe-5f65-4aa5-a70d-272c05c99633",
   "metadata": {},
   "source": [
    "### Comments\n",
    " - As expected, the hyperpartisan label corresponds to categories `left` and `right`\n",
    "   - (less partisan articles are labeled `left-center`, `right-center`, or `least`)\n",
    " - I will focus on predicting `bias` and ignore the `hyperpartisan` column since it can be inferred from `bias`\n",
    " - The `id` and `id2` fields have served their purpose in validating the join. `id2` will be dropped while keeping `id` as a key into the original data\n",
    " - Additionally dropping fields `published-at`, `title`, `url`, and `labeled-by` that won't be used in this analysis (of course, `title` could contain useful information, but I will not be exploring that)\n",
    " - The `bias` field will be mapped to numerical values\n",
    " - **Half the dataset will be dropped** to reduce model training times"
   ]
  },
  {
   "cell_type": "code",
   "execution_count": 8,
   "id": "81ba18cc-5bb7-4018-b305-97f5b5b5e7c7",
   "metadata": {
    "execution": {
     "iopub.execute_input": "2025-08-22T23:35:39.477153Z",
     "iopub.status.busy": "2025-08-22T23:35:39.476858Z",
     "iopub.status.idle": "2025-08-22T23:35:39.511079Z",
     "shell.execute_reply": "2025-08-22T23:35:39.510206Z",
     "shell.execute_reply.started": "2025-08-22T23:35:39.477138Z"
    }
   },
   "outputs": [],
   "source": [
    "df = df.drop(['id2', 'hyperpartisan', 'published-at', 'title', 'url', 'labeled-by'], axis=1)\n",
    "\n",
    "bias_mapping = {'left': 0, 'left-center': 1, 'least': 2, 'right-center': 3, 'right': 4 }\n",
    "bias_mapping_reverse = dict((v,k) for k,v in bias_mapping.items())\n",
    "df['bias'] = df['bias'].map(bias_mapping)"
   ]
  },
  {
   "cell_type": "markdown",
   "id": "82126ac6-e125-4f63-8769-a04f4b3cb066",
   "metadata": {},
   "source": [
    "Using train_test_split to drop half the dataset, while preserving the representation across categories"
   ]
  },
  {
   "cell_type": "code",
   "execution_count": 9,
   "id": "ca883b3f-9ed6-4d04-9c50-29f6095a64fd",
   "metadata": {
    "execution": {
     "iopub.execute_input": "2025-08-22T23:35:50.500568Z",
     "iopub.status.busy": "2025-08-22T23:35:50.500318Z",
     "iopub.status.idle": "2025-08-22T23:35:50.560991Z",
     "shell.execute_reply": "2025-08-22T23:35:50.560203Z",
     "shell.execute_reply.started": "2025-08-22T23:35:50.500554Z"
    }
   },
   "outputs": [],
   "source": [
    "# using train_test_split\n",
    "\n",
    "df, _, _, _ = train_test_split(\n",
    "    df,\n",
    "    df['bias'],\n",
    "    test_size=0.5,\n",
    "    random_state=42,\n",
    "    stratify=df['bias'])\n",
    "\n",
    "df.reset_index(drop = True, inplace = True)"
   ]
  },
  {
   "cell_type": "code",
   "execution_count": 10,
   "id": "b4b3b01b-4444-4078-b6d2-768f23a2136f",
   "metadata": {
    "execution": {
     "iopub.execute_input": "2025-08-22T23:35:52.452353Z",
     "iopub.status.busy": "2025-08-22T23:35:52.452075Z",
     "iopub.status.idle": "2025-08-22T23:35:52.487718Z",
     "shell.execute_reply": "2025-08-22T23:35:52.486529Z",
     "shell.execute_reply.started": "2025-08-22T23:35:52.452338Z"
    }
   },
   "outputs": [
    {
     "name": "stdout",
     "output_type": "stream",
     "text": [
      "<class 'pandas.core.frame.DataFrame'>\n",
      "RangeIndex: 75000 entries, 0 to 74999\n",
      "Data columns (total 3 columns):\n",
      " #   Column   Non-Null Count  Dtype \n",
      "---  ------   --------------  ----- \n",
      " 0   id       75000 non-null  int64 \n",
      " 1   article  75000 non-null  object\n",
      " 2   bias     75000 non-null  int64 \n",
      "dtypes: int64(2), object(1)\n",
      "memory usage: 1.7+ MB\n"
     ]
    }
   ],
   "source": [
    "df.info()"
   ]
  },
  {
   "cell_type": "markdown",
   "id": "51ce6a81-7fac-4c99-9eea-1d7ba6f24bc6",
   "metadata": {},
   "source": [
    "AT THIS POINT DISPLAY ONE EXAMPLE OF EACH bias type"
   ]
  },
  {
   "cell_type": "code",
   "execution_count": 11,
   "id": "ba0ef3b6-f3a7-46c5-82bb-99b75a001a5b",
   "metadata": {
    "execution": {
     "iopub.execute_input": "2025-08-22T23:36:07.790764Z",
     "iopub.status.busy": "2025-08-22T23:36:07.790513Z",
     "iopub.status.idle": "2025-08-22T23:36:08.356667Z",
     "shell.execute_reply": "2025-08-22T23:36:08.355897Z",
     "shell.execute_reply.started": "2025-08-22T23:36:07.790750Z"
    }
   },
   "outputs": [
    {
     "data": {
      "image/png": "[encoded data removed]",
      "text/plain": [
       "<Figure size 900x300 with 1 Axes>"
      ]
     },
     "metadata": {},
     "output_type": "display_data"
    }
   ],
   "source": [
    "base_palette = sns.color_palette(\"Paired\")\n",
    "bias_palette = [\n",
    "    base_palette[1], # blue (left)\n",
    "    base_palette[0], # light blue (left-center)\n",
    "    base_palette[8], # purple (least)\n",
    "    base_palette[4], # light red (right-center)\n",
    "    base_palette[5], # red (right)\n",
    "]\n",
    "\n",
    "data_distribution_chart = sns.displot(\n",
    "    data = df,\n",
    "    x = df.index,\n",
    "    hue = \"bias\",\n",
    "    multiple = \"stack\",\n",
    "    height = 3,\n",
    "    aspect = 3,\n",
    "    hue_order = list(bias_mapping.values()),\n",
    "    palette = bias_palette,\n",
    "    legend = False\n",
    "    # faced_kws = { \"legend_data\": bias_mapping_reverse }\n",
    ")\n",
    "\n",
    "data_distribution_chart.set_xlabels(\"record # in dataset\")\n",
    "data_distribution_chart.set_ylabels(\"# articles per bin\")\n",
    "\n",
    "ax = data_distribution_chart.axes[0, 0]\n",
    "keys = list(bias_mapping.keys())\n",
    "keys.reverse()\n",
    "ax.legend(\n",
    "    labels = keys,\n",
    "    title = \"bias key\",\n",
    "    loc = \"center right\",\n",
    "    bbox_to_anchor=(0.7, 0.2, 0.5, 0.5)\n",
    ")\n",
    "plt.show()"
   ]
  },
  {
   "cell_type": "markdown",
   "id": "92c68fd2-b495-4a81-9051-50a32d2ffef2",
   "metadata": {},
   "source": [
    "#### Comments\n",
    " - The 5 categories are distributed roughly evenly across the dataset\n",
    " - The top (blue/`left`) and bottom (red/`right`) regions represent the `hyperpartisan` articles\n",
    " - Middle bands (light blue, light red, purple) are not considered hyperpartisan"
   ]
  },
  {
   "cell_type": "markdown",
   "id": "19f2dd9a-9fe1-45d6-abb1-4c65fdb79d27",
   "metadata": {},
   "source": [
    "#### Save this dataset to disk for convenience"
   ]
  },
  {
   "cell_type": "code",
   "execution_count": 12,
   "id": "5c42db9c-0762-4cc8-96af-549d5cc4d516",
   "metadata": {
    "execution": {
     "iopub.execute_input": "2025-08-22T23:36:44.803109Z",
     "iopub.status.busy": "2025-08-22T23:36:44.802838Z",
     "iopub.status.idle": "2025-08-22T23:36:45.874431Z",
     "shell.execute_reply": "2025-08-22T23:36:45.873606Z",
     "shell.execute_reply.started": "2025-08-22T23:36:44.803094Z"
    }
   },
   "outputs": [],
   "source": [
    "df.to_pickle(dataset_file_path(\"articles_dataframe.pkl\"))\n",
    "\n",
    "# going forward the vectorized df can be loaded using:\n",
    "# df = pd.read_pickle(os.path.join(os.getcwd(), \"dataset\", \"articles_dataframe.pkl\"))"
   ]
  },
  {
   "cell_type": "code",
   "execution_count": 13,
   "id": "ceb6d1a3-22a2-49bb-9d72-e3cb95b36204",
   "metadata": {
    "execution": {
     "iopub.execute_input": "2025-08-22T23:36:58.907755Z",
     "iopub.status.busy": "2025-08-22T23:36:58.907498Z",
     "iopub.status.idle": "2025-08-22T23:36:58.939152Z",
     "shell.execute_reply": "2025-08-22T23:36:58.938000Z",
     "shell.execute_reply.started": "2025-08-22T23:36:58.907741Z"
    }
   },
   "outputs": [],
   "source": [
    "# 80/20 test train split\n",
    "x_train_raw, x_test_raw, y_train, y_test = train_test_split(df, df['bias'], test_size=0.2, random_state=42, stratify = df['bias'])"
   ]
  },
  {
   "cell_type": "code",
   "execution_count": 14,
   "id": "cc6b74e4-3144-4425-9f53-381e7a18f07a",
   "metadata": {
    "execution": {
     "iopub.execute_input": "2025-08-22T23:37:01.779363Z",
     "iopub.status.busy": "2025-08-22T23:37:01.779051Z",
     "iopub.status.idle": "2025-08-22T23:37:01.784084Z",
     "shell.execute_reply": "2025-08-22T23:37:01.783127Z",
     "shell.execute_reply.started": "2025-08-22T23:37:01.779329Z"
    }
   },
   "outputs": [
    {
     "name": "stdout",
     "output_type": "stream",
     "text": [
      "(60000, 3)\n",
      "(15000, 3)\n",
      "(60000,)\n",
      "(15000,)\n"
     ]
    }
   ],
   "source": [
    "print(x_train_raw.shape)\n",
    "print(x_test_raw.shape)\n",
    "print(y_train.shape)\n",
    "print(y_test.shape)"
   ]
  },
  {
   "cell_type": "markdown",
   "id": "54d3e5d5-1ec9-483d-8d77-208643cb7152",
   "metadata": {},
   "source": [
    "#### Run TF-IDF Vectorization and save to disk for convenience\n",
    "- (Add some comments on why this choice was made, and what was done to arrive at it.)\n",
    "- (Add comment about stop words customization)\n",
    "- Add comment about using fit_transform on 80%\n",
    "   - but only transform on 20% (we can't know future data, so cannot actually fit on it)"
   ]
  },
  {
   "cell_type": "code",
   "execution_count": null,
   "id": "2d0bd140-749c-4418-9334-01e409051039",
   "metadata": {},
   "outputs": [],
   "source": [
    "additional_stopwords = ['amp', 'com', 'href', 'htm', 'html', 'http', 'https', 'php', 'searchindex', 'solr', 'www']\n",
    "stop_words = list(text.ENGLISH_STOP_WORDS.union(additional_stopwords))\n",
    "\n",
    "vectorizer = TfidfVectorizer(\n",
    "    lowercase=False,\n",
    "    stop_words=stop_words, \n",
    "    max_features=1000,\n",
    "    min_df=5,\n",
    "    max_df=0.7,\n",
    "    ngram_range=(1,2))"
   ]
  },
  {
   "cell_type": "code",
   "execution_count": 17,
   "id": "cfae34cb-861b-4576-bdbe-2a994e294b2d",
   "metadata": {
    "execution": {
     "iopub.execute_input": "2025-08-22T23:42:14.145610Z",
     "iopub.status.busy": "2025-08-22T23:42:14.145358Z",
     "iopub.status.idle": "2025-08-22T23:44:43.930801Z",
     "shell.execute_reply": "2025-08-22T23:44:43.929983Z",
     "shell.execute_reply.started": "2025-08-22T23:42:14.145596Z"
    }
   },
   "outputs": [],
   "source": [
    "bag_of_words = vectorizer.fit_transform(x_train_raw['article'])\n",
    "x_train = pd.DataFrame(bag_of_words.toarray(), columns=vectorizer.get_feature_names_out())\n",
    "x_train.to_pickle(dataset_file_path(\"articles_xtrain_tfidf_vectorized.pkl\"))\n",
    "\n",
    "bag_of_words_test = vectorizer.transform(x_test_raw['article'])\n",
    "x_test = pd.DataFrame(bag_of_words_test.toarray(), columns=vectorizer.get_feature_names_out())\n",
    "x_test.to_pickle(dataset_file_path(\"articles_xtest_tfidf_vectorized.pkl\"))\n",
    "\n",
    "y_train.to_pickle(dataset_file_path(\"targets_ytrain.pkl\"))\n",
    "y_test.to_pickle(dataset_file_path(\"targets_ytest.pkl\"))\n",
    "\n",
    "x_train_raw.to_pickle(dataset_file_path(\"articles_xtrain_raw.pkl\"))\n",
    "x_test_raw.to_pickle(dataset_file_path(\"articles_xtest_raw.pkl\"))"
   ]
  },
  {
   "cell_type": "markdown",
   "id": "8cd23f77-1ebf-4dac-ae44-bc2dcce2fd26",
   "metadata": {},
   "source": [
    "# START FROM HERE FOR FUTURE ATTEMPTS"
   ]
  },
  {
   "cell_type": "code",
   "execution_count": 3,
   "id": "361238f4-025f-48ce-a6b9-34d3b2b09c86",
   "metadata": {
    "execution": {
     "iopub.execute_input": "2025-08-23T01:33:37.457993Z",
     "iopub.status.busy": "2025-08-23T01:33:37.457743Z",
     "iopub.status.idle": "2025-08-23T01:33:39.381808Z",
     "shell.execute_reply": "2025-08-23T01:33:39.381044Z",
     "shell.execute_reply.started": "2025-08-23T01:33:37.457979Z"
    }
   },
   "outputs": [],
   "source": [
    "######### Add init_imports True/False, and run the imports if false. Re-initialize the directory variable\n",
    "# Also, don't run this cell if init_imports is true\n",
    "\n",
    "# TF-IDF Vectorized x_train and x_test\n",
    "x_train = pd.read_pickle(dataset_file_path(\"articles_xtrain_tfidf_vectorized.pkl\"))\n",
    "x_test = pd.read_pickle(dataset_file_path(\"articles_xtest_tfidf_vectorized.pkl\"))\n",
    "\n",
    "# Targets\n",
    "y_train = pd.read_pickle(dataset_file_path(\"targets_ytrain.pkl\"))\n",
    "y_test = pd.read_pickle(dataset_file_path(\"targets_ytest.pkl\"))\n",
    "\n",
    "# Non-vectorized training and test data\n",
    "x_train_raw = pd.read_pickle(dataset_file_path(\"articles_xtrain_raw.pkl\"))\n",
    "x_test_raw = pd.read_pickle(dataset_file_path(\"articles_xtest_raw.pkl\"))"
   ]
  },
  {
   "cell_type": "markdown",
   "id": "84217e54-e941-456c-827d-d3acb77000a1",
   "metadata": {},
   "source": [
    "#### Determining the feature size for training\n",
    " - The articles must be vectorized for model training. The plan is to use TF-IDF\n",
    " - Optimum values for max_features (and other params) can be found using GridSearchCV, with Logistic Regression\n",
    " - I'll assume the optimum choice for Logistic Regression is good enough for other classifiers, and use that option going forward\n",
    " - Will use scikit's default stopwords list, even though it has [known issues](https://aclanthology.org/W18-2502/)\n",
    " - Update: **GridSearchCV with a Pipeline was crashing the kernel!** Working around it with a manual grid search"
   ]
  },
  {
   "cell_type": "markdown",
   "id": "d80b464b-c96e-4a2a-a7e1-9040de16f3fc",
   "metadata": {},
   "source": [
    "## Classification Using Logistic Regression"
   ]
  },
  {
   "cell_type": "code",
   "execution_count": 3,
   "id": "7411ca33-4059-4b03-8baa-2f24813105ea",
   "metadata": {},
   "outputs": [
    {
     "name": "stdout",
     "output_type": "stream",
     "text": [
      "df already loaded.. not loading again\n",
      "vec_time 61.660\n",
      "model_time 26.383\n",
      "model_score 0.736\n",
      "vec_time 294.970\n",
      "model_time 30.631\n",
      "model_score 0.742\n",
      "vec_time 61.191\n",
      "model_time 70.592\n",
      "model_score 0.786\n",
      "vec_time 297.467\n",
      "model_time 94.300\n",
      "model_score 0.790\n"
     ]
    },
    {
     "data": {
      "text/html": [
       "<div>\n",
       "<style scoped>\n",
       "    .dataframe tbody tr th:only-of-type {\n",
       "        vertical-align: middle;\n",
       "    }\n",
       "\n",
       "    .dataframe tbody tr th {\n",
       "        vertical-align: top;\n",
       "    }\n",
       "\n",
       "    .dataframe thead th {\n",
       "        text-align: right;\n",
       "    }\n",
       "</style>\n",
       "<table border=\"1\" class=\"dataframe\">\n",
       "  <thead>\n",
       "    <tr style=\"text-align: right;\">\n",
       "      <th></th>\n",
       "      <th>model_score</th>\n",
       "      <th>max_features</th>\n",
       "      <th>ngram_upper_range</th>\n",
       "      <th>vectorizer_time</th>\n",
       "      <th>train_time</th>\n",
       "    </tr>\n",
       "  </thead>\n",
       "  <tbody>\n",
       "    <tr>\n",
       "      <th>0</th>\n",
       "      <td>0.74</td>\n",
       "      <td>1000</td>\n",
       "      <td>1</td>\n",
       "      <td>61.66</td>\n",
       "      <td>26.38</td>\n",
       "    </tr>\n",
       "    <tr>\n",
       "      <th>1</th>\n",
       "      <td>0.74</td>\n",
       "      <td>1000</td>\n",
       "      <td>2</td>\n",
       "      <td>294.97</td>\n",
       "      <td>30.63</td>\n",
       "    </tr>\n",
       "    <tr>\n",
       "      <th>2</th>\n",
       "      <td>0.79</td>\n",
       "      <td>2500</td>\n",
       "      <td>1</td>\n",
       "      <td>61.19</td>\n",
       "      <td>70.59</td>\n",
       "    </tr>\n",
       "    <tr>\n",
       "      <th>3</th>\n",
       "      <td>0.79</td>\n",
       "      <td>2500</td>\n",
       "      <td>2</td>\n",
       "      <td>297.47</td>\n",
       "      <td>94.30</td>\n",
       "    </tr>\n",
       "  </tbody>\n",
       "</table>\n",
       "</div>"
      ],
      "text/plain": [
       "   model_score  max_features  ngram_upper_range  vectorizer_time  train_time\n",
       "0         0.74          1000                  1            61.66       26.38\n",
       "1         0.74          1000                  2           294.97       30.63\n",
       "2         0.79          2500                  1            61.19       70.59\n",
       "3         0.79          2500                  2           297.47       94.30"
      ]
     },
     "metadata": {},
     "output_type": "display_data"
    }
   ],
   "source": [
    "cv_max_features = [1000, 2500]\n",
    "cv_ngram_upper_range = [1, 2]\n",
    "\n",
    "# fetch cartesian product of feature ranges for grid search\n",
    "from itertools import product\n",
    "cv_params = list(product(cv_max_features, cv_ngram_upper_range))\n",
    "\n",
    "cv_result = []\n",
    "for max_features, ngram_upper_range in cv_params:\n",
    "\n",
    "    vectorizer = TfidfVectorizer(\n",
    "        lowercase=True,\n",
    "        stop_words=stop_words, \n",
    "        max_features=max_features,\n",
    "        min_df=5,\n",
    "        max_df=0.7,\n",
    "        ngram_range=(1,ngram_upper_range))\n",
    "\n",
    "    vec_time = time.time()\n",
    "    bag_of_words = vectorizer.fit_transform(df['article'])\n",
    "    vec_time = time.time() - vec_time\n",
    "    print(f\"vec_time {vec_time:.3f}\")\n",
    "\n",
    "    bag_of_words_df = pd.DataFrame(\n",
    "        bag_of_words.toarray(), \n",
    "        columns=vectorizer.get_feature_names_out())\n",
    "    x_train, x_test, y_train, y_test = train_test_split(bag_of_words_df, \n",
    "                                                    df['bias'], \n",
    "                                                    test_size=0.2, \n",
    "                                                    random_state=42, \n",
    "                                                    stratify=df['bias'])\n",
    "\n",
    "    logregmodel = LogisticRegression(max_iter=200, random_state=42, solver='lbfgs')\n",
    "    model_time = time.time()\n",
    "    logregmodel.fit(x_train, y_train)\n",
    "    model_time = time.time() - model_time\n",
    "    model_score = logregmodel.score(x_test, y_test)\n",
    "\n",
    "    cv_result.append([model_score, max_features, ngram_upper_range, vec_time, model_time])\n",
    "    print(f\"model_time {model_time:.3f}\")\n",
    "    print(f\"model_score {model_score:.3f}\")\n",
    "\n",
    "cv_df = pd.DataFrame(\n",
    "    cv_result,\n",
    "    columns = ['model_score', 'max_features', 'ngram_upper_range', 'vectorizer_time', 'train_time'])\n",
    "pd.options.display.float_format = \"{:,.2f}\".format\n",
    "pd.options.display.max_rows = len(cv_result)\n",
    "display(cv_df)"
   ]
  },
  {
   "cell_type": "markdown",
   "id": "4b400c1c-6a25-4ed5-b342-0b944f8f824b",
   "metadata": {},
   "source": [
    "#### Comments\n",
    "- Best performance is with `2500` features, and ngram range `(1,2)` (single words and bigrams)\n",
    "- **However** performance with `1000` features, and ngram range `(1,2)` is very similar, albiet with *significantly lower* training time, which will add up over grid searches for other models as well -- therefore, I will vectorize with 1000 features and single words + bigrams for all model training going forward.\n",
    "- Previous testing showed `lbfgs` solver vs. `sag` does not have a tangible impact on accuracy. Proceeding with `lbfgs` due to the significantly lower training time.\n",
    "- Previous testing showed min_df, max_df values did not have much impact or enable reducing feature size. Tuning that has been eliminated from the grid search to scope the search."
   ]
  },
  {
   "cell_type": "markdown",
   "id": "0957acd1-266e-4b86-9889-d430e9e4f1e4",
   "metadata": {},
   "source": [
    "Next step: create a dataframe of TF-IDF vectorized articles with these params, and save to disk for quick retreival for subsequent use"
   ]
  },
  {
   "cell_type": "code",
   "execution_count": 5,
   "id": "10472084-bc7d-456c-bdaa-5b5814207cfe",
   "metadata": {},
   "outputs": [
    {
     "name": "stdout",
     "output_type": "stream",
     "text": [
      "<class 'pandas.core.frame.DataFrame'>\n",
      "RangeIndex: 150000 entries, 0 to 149999\n",
      "Columns: 1000 entries, 000 to young\n",
      "dtypes: float64(1000)\n",
      "memory usage: 1.1 GB\n",
      "None\n"
     ]
    },
    {
     "data": {
      "text/html": [
       "<div>\n",
       "<style scoped>\n",
       "    .dataframe tbody tr th:only-of-type {\n",
       "        vertical-align: middle;\n",
       "    }\n",
       "\n",
       "    .dataframe tbody tr th {\n",
       "        vertical-align: top;\n",
       "    }\n",
       "\n",
       "    .dataframe thead th {\n",
       "        text-align: right;\n",
       "    }\n",
       "</style>\n",
       "<table border=\"1\" class=\"dataframe\">\n",
       "  <thead>\n",
       "    <tr style=\"text-align: right;\">\n",
       "      <th></th>\n",
       "      <th>000</th>\n",
       "      <th>01</th>\n",
       "      <th>02</th>\n",
       "      <th>03</th>\n",
       "      <th>04</th>\n",
       "      <th>05</th>\n",
       "      <th>06</th>\n",
       "      <th>07</th>\n",
       "      <th>08</th>\n",
       "      <th>09</th>\n",
       "      <th>...</th>\n",
       "      <th>wrong</th>\n",
       "      <th>wrote</th>\n",
       "      <th>www</th>\n",
       "      <th>www nytimes</th>\n",
       "      <th>www washingtonpost</th>\n",
       "      <th>year</th>\n",
       "      <th>year old</th>\n",
       "      <th>years</th>\n",
       "      <th>years ago</th>\n",
       "      <th>young</th>\n",
       "    </tr>\n",
       "  </thead>\n",
       "  <tbody>\n",
       "    <tr>\n",
       "      <th>0</th>\n",
       "      <td>0.00</td>\n",
       "      <td>0.00</td>\n",
       "      <td>0.00</td>\n",
       "      <td>0.00</td>\n",
       "      <td>0.00</td>\n",
       "      <td>0.00</td>\n",
       "      <td>0.00</td>\n",
       "      <td>0.00</td>\n",
       "      <td>0.00</td>\n",
       "      <td>0.00</td>\n",
       "      <td>...</td>\n",
       "      <td>0.00</td>\n",
       "      <td>0.00</td>\n",
       "      <td>0.00</td>\n",
       "      <td>0.00</td>\n",
       "      <td>0.00</td>\n",
       "      <td>0.02</td>\n",
       "      <td>0.00</td>\n",
       "      <td>0.00</td>\n",
       "      <td>0.00</td>\n",
       "      <td>0.00</td>\n",
       "    </tr>\n",
       "    <tr>\n",
       "      <th>1</th>\n",
       "      <td>0.11</td>\n",
       "      <td>0.00</td>\n",
       "      <td>0.00</td>\n",
       "      <td>0.00</td>\n",
       "      <td>0.00</td>\n",
       "      <td>0.00</td>\n",
       "      <td>0.00</td>\n",
       "      <td>0.00</td>\n",
       "      <td>0.00</td>\n",
       "      <td>0.00</td>\n",
       "      <td>...</td>\n",
       "      <td>0.00</td>\n",
       "      <td>0.31</td>\n",
       "      <td>0.06</td>\n",
       "      <td>0.00</td>\n",
       "      <td>0.00</td>\n",
       "      <td>0.08</td>\n",
       "      <td>0.00</td>\n",
       "      <td>0.00</td>\n",
       "      <td>0.00</td>\n",
       "      <td>0.00</td>\n",
       "    </tr>\n",
       "    <tr>\n",
       "      <th>...</th>\n",
       "      <td>...</td>\n",
       "      <td>...</td>\n",
       "      <td>...</td>\n",
       "      <td>...</td>\n",
       "      <td>...</td>\n",
       "      <td>...</td>\n",
       "      <td>...</td>\n",
       "      <td>...</td>\n",
       "      <td>...</td>\n",
       "      <td>...</td>\n",
       "      <td>...</td>\n",
       "      <td>...</td>\n",
       "      <td>...</td>\n",
       "      <td>...</td>\n",
       "      <td>...</td>\n",
       "      <td>...</td>\n",
       "      <td>...</td>\n",
       "      <td>...</td>\n",
       "      <td>...</td>\n",
       "      <td>...</td>\n",
       "      <td>...</td>\n",
       "    </tr>\n",
       "    <tr>\n",
       "      <th>3</th>\n",
       "      <td>0.00</td>\n",
       "      <td>0.00</td>\n",
       "      <td>0.00</td>\n",
       "      <td>0.00</td>\n",
       "      <td>0.00</td>\n",
       "      <td>0.07</td>\n",
       "      <td>0.07</td>\n",
       "      <td>0.00</td>\n",
       "      <td>0.00</td>\n",
       "      <td>0.00</td>\n",
       "      <td>...</td>\n",
       "      <td>0.00</td>\n",
       "      <td>0.00</td>\n",
       "      <td>0.00</td>\n",
       "      <td>0.00</td>\n",
       "      <td>0.00</td>\n",
       "      <td>0.00</td>\n",
       "      <td>0.00</td>\n",
       "      <td>0.00</td>\n",
       "      <td>0.00</td>\n",
       "      <td>0.00</td>\n",
       "    </tr>\n",
       "    <tr>\n",
       "      <th>4</th>\n",
       "      <td>0.04</td>\n",
       "      <td>0.00</td>\n",
       "      <td>0.00</td>\n",
       "      <td>0.00</td>\n",
       "      <td>0.00</td>\n",
       "      <td>0.00</td>\n",
       "      <td>0.00</td>\n",
       "      <td>0.00</td>\n",
       "      <td>0.00</td>\n",
       "      <td>0.00</td>\n",
       "      <td>...</td>\n",
       "      <td>0.00</td>\n",
       "      <td>0.00</td>\n",
       "      <td>0.00</td>\n",
       "      <td>0.00</td>\n",
       "      <td>0.00</td>\n",
       "      <td>0.08</td>\n",
       "      <td>0.00</td>\n",
       "      <td>0.02</td>\n",
       "      <td>0.00</td>\n",
       "      <td>0.03</td>\n",
       "    </tr>\n",
       "  </tbody>\n",
       "</table>\n",
       "<p>5 rows × 1000 columns</p>\n",
       "</div>"
      ],
      "text/plain": [
       "    000   01   02   03   04   05   06   07   08   09  ...  wrong  wrote  www  \\\n",
       "0  0.00 0.00 0.00 0.00 0.00 0.00 0.00 0.00 0.00 0.00  ...   0.00   0.00 0.00   \n",
       "1  0.11 0.00 0.00 0.00 0.00 0.00 0.00 0.00 0.00 0.00  ...   0.00   0.31 0.06   \n",
       "..  ...  ...  ...  ...  ...  ...  ...  ...  ...  ...  ...    ...    ...  ...   \n",
       "3  0.00 0.00 0.00 0.00 0.00 0.07 0.07 0.00 0.00 0.00  ...   0.00   0.00 0.00   \n",
       "4  0.04 0.00 0.00 0.00 0.00 0.00 0.00 0.00 0.00 0.00  ...   0.00   0.00 0.00   \n",
       "\n",
       "    www nytimes  www washingtonpost  year  year old  years  years ago  young  \n",
       "0          0.00                0.00  0.02      0.00   0.00       0.00   0.00  \n",
       "1          0.00                0.00  0.08      0.00   0.00       0.00   0.00  \n",
       "..          ...                 ...   ...       ...    ...        ...    ...  \n",
       "3          0.00                0.00  0.00      0.00   0.00       0.00   0.00  \n",
       "4          0.00                0.00  0.08      0.00   0.02       0.00   0.03  \n",
       "\n",
       "[5 rows x 1000 columns]"
      ]
     },
     "execution_count": 5,
     "metadata": {},
     "output_type": "execute_result"
    }
   ],
   "source": [
    "print(bag_of_words_df.info())\n",
    "bag_of_words_df.head()"
   ]
  },
  {
   "cell_type": "markdown",
   "id": "21da35d9-82c7-48de-b097-7e3ba930ebfb",
   "metadata": {},
   "source": [
    "## Classification Using Logistic Regression"
   ]
  },
  {
   "cell_type": "code",
   "execution_count": null,
   "id": "055180ff-c88f-4bf1-adf7-5b1e85840961",
   "metadata": {
    "execution": {
     "execution_failed": "2025-08-23T01:33:18.725Z",
     "iopub.execute_input": "2025-08-23T01:21:17.597940Z",
     "iopub.status.busy": "2025-08-23T01:21:17.597639Z"
    }
   },
   "outputs": [
    {
     "name": "stdout",
     "output_type": "stream",
     "text": [
      "Fitting 5 folds for each of 1 candidates, totalling 5 fits\n"
     ]
    },
    {
     "name": "stderr",
     "output_type": "stream",
     "text": [
      "/home/adhavle/ml/lib/python3.12/site-packages/sklearn/linear_model/_sag.py:348: ConvergenceWarning: The max_iter was reached which means the coef_ did not converge\n",
      "  warnings.warn(\n"
     ]
    },
    {
     "name": "stdout",
     "output_type": "stream",
     "text": [
      "[CV 1/5] END ..........penalty=None, solver=sag;, score=0.707 total time= 9.8min\n"
     ]
    }
   ],
   "source": [
    "cv_grid = GridSearchCV(\n",
    "    LogisticRegression(\n",
    "        max_iter=1000,\n",
    "        random_state=42),\n",
    "    param_grid = {\n",
    "        #'solver': ['lbfgs', 'sag'],\n",
    "        #'penalty': ['l2', None]\n",
    "        'solver': ['sag'],\n",
    "        'penalty': [None]\n",
    "    },\n",
    "    verbose = 3,\n",
    "    n_jobs = 1)\n",
    "\n",
    "cv_grid.fit(x_train, y_train)"
   ]
  },
  {
   "cell_type": "code",
   "execution_count": 7,
   "id": "f52ceb63-f64f-4803-8b6a-bb81bc8aa568",
   "metadata": {
    "execution": {
     "iopub.execute_input": "2025-08-23T00:58:16.049698Z",
     "iopub.status.busy": "2025-08-23T00:58:16.049449Z",
     "iopub.status.idle": "2025-08-23T00:58:16.084273Z",
     "shell.execute_reply": "2025-08-23T00:58:16.083250Z",
     "shell.execute_reply.started": "2025-08-23T00:58:16.049684Z"
    }
   },
   "outputs": [
    {
     "name": "stdout",
     "output_type": "stream",
     "text": [
      "{'max_iter': 50, 'penalty': 'l2', 'solver': 'sag'}\n"
     ]
    },
    {
     "data": {
      "text/plain": [
       "0.7222"
      ]
     },
     "execution_count": 7,
     "metadata": {},
     "output_type": "execute_result"
    }
   ],
   "source": [
    "print(cv_grid.best_params_)\n",
    "lr_model = cv_grid.best_estimator_\n",
    "lr_model.score(x_test, y_test)"
   ]
  },
  {
   "cell_type": "code",
   "execution_count": 9,
   "id": "982ea641-ea7c-4fe0-b441-425d9b82ad7c",
   "metadata": {
    "execution": {
     "iopub.execute_input": "2025-08-23T00:59:00.277270Z",
     "iopub.status.busy": "2025-08-23T00:59:00.277021Z",
     "iopub.status.idle": "2025-08-23T00:59:00.284843Z",
     "shell.execute_reply": "2025-08-23T00:59:00.283865Z",
     "shell.execute_reply.started": "2025-08-23T00:59:00.277256Z"
    }
   },
   "outputs": [
    {
     "data": {
      "text/plain": [
       "{'mean_fit_time': array([ 3.54386387, 25.99917412,  3.80047035, 29.75404906,  6.88946428,\n",
       "        26.78611789,  7.53589029, 59.59981947]),\n",
       " 'std_fit_time': array([0.08906488, 2.52083829, 0.23495191, 0.43113253, 0.3787754 ,\n",
       "        3.35929531, 0.42201975, 0.41775001]),\n",
       " 'mean_score_time': array([0.01707573, 0.01514001, 0.01719351, 0.01650887, 0.01700263,\n",
       "        0.01558599, 0.01722741, 0.01524653]),\n",
       " 'std_score_time': array([0.00074585, 0.00085672, 0.00064946, 0.00270427, 0.00038458,\n",
       "        0.00273567, 0.00074864, 0.00090061]),\n",
       " 'param_max_iter': masked_array(data=[50, 50, 50, 50, 100, 100, 100, 100],\n",
       "              mask=[False, False, False, False, False, False, False, False],\n",
       "        fill_value=999999),\n",
       " 'param_penalty': masked_array(data=['l2', 'l2', None, None, 'l2', 'l2', None, None],\n",
       "              mask=[False, False, False, False, False, False, False, False],\n",
       "        fill_value='?',\n",
       "             dtype=object),\n",
       " 'param_solver': masked_array(data=['lbfgs', 'sag', 'lbfgs', 'sag', 'lbfgs', 'sag',\n",
       "                    'lbfgs', 'sag'],\n",
       "              mask=[False, False, False, False, False, False, False, False],\n",
       "        fill_value='?',\n",
       "             dtype=object),\n",
       " 'params': [{'max_iter': 50, 'penalty': 'l2', 'solver': 'lbfgs'},\n",
       "  {'max_iter': 50, 'penalty': 'l2', 'solver': 'sag'},\n",
       "  {'max_iter': 50, 'penalty': None, 'solver': 'lbfgs'},\n",
       "  {'max_iter': 50, 'penalty': None, 'solver': 'sag'},\n",
       "  {'max_iter': 100, 'penalty': 'l2', 'solver': 'lbfgs'},\n",
       "  {'max_iter': 100, 'penalty': 'l2', 'solver': 'sag'},\n",
       "  {'max_iter': 100, 'penalty': None, 'solver': 'lbfgs'},\n",
       "  {'max_iter': 100, 'penalty': None, 'solver': 'sag'}],\n",
       " 'split0_test_score': array([0.71858333, 0.7195    , 0.71916667, 0.70775   , 0.71933333,\n",
       "        0.7195    , 0.72      , 0.69016667]),\n",
       " 'split1_test_score': array([0.7095    , 0.71258333, 0.70925   , 0.69225   , 0.71133333,\n",
       "        0.71258333, 0.71225   , 0.71233333]),\n",
       " 'split2_test_score': array([0.71666667, 0.7185    , 0.71441667, 0.67475   , 0.71883333,\n",
       "        0.7185    , 0.715     , 0.711     ]),\n",
       " 'split3_test_score': array([0.71233333, 0.71458333, 0.70983333, 0.69033333, 0.71316667,\n",
       "        0.71458333, 0.70841667, 0.70516667]),\n",
       " 'split4_test_score': array([0.71483333, 0.71683333, 0.71491667, 0.71333333, 0.71566667,\n",
       "        0.71683333, 0.716     , 0.7135    ]),\n",
       " 'mean_test_score': array([0.71438333, 0.7164    , 0.71351667, 0.69568333, 0.71566667,\n",
       "        0.7164    , 0.71433333, 0.70643333]),\n",
       " 'std_test_score': array([0.00319705, 0.00253279, 0.00364593, 0.01368022, 0.00311448,\n",
       "        0.00253279, 0.00386473, 0.00862335]),\n",
       " 'rank_test_score': array([4, 1, 6, 8, 3, 1, 5, 7], dtype=int32)}"
      ]
     },
     "execution_count": 9,
     "metadata": {},
     "output_type": "execute_result"
    }
   ],
   "source": [
    "cv_grid.cv_results_"
   ]
  },
  {
   "cell_type": "markdown",
   "id": "434d9bde-be23-4296-8812-6b7153b6e45c",
   "metadata": {},
   "source": [
    "## Classification Using XGBoost"
   ]
  },
  {
   "cell_type": "code",
   "execution_count": null,
   "id": "3e28b717-2caa-4ec1-8a82-e4ffc8cc1ce4",
   "metadata": {},
   "outputs": [],
   "source": [
    "cv_grid = GridSearchCV(\n",
    "    XGBClassifier(\n",
    "        num_class=5,\n",
    "        eval_metric='mlogloss',\n",
    "        device=\"cuda\",\n",
    "        random_state=42),\n",
    "    param_grid = {\n",
    "        'max_depth': [5, 6],\n",
    "        'learning_rate': [0.3, 0.4],\n",
    "        'n_estimators': [50, 100]\n",
    "    },\n",
    "    verbose = 3,\n",
    "    n_jobs = 1)\n",
    "\n",
    "cv_grid.fit(x_train, y_train)"
   ]
  },
  {
   "cell_type": "code",
   "execution_count": 13,
   "id": "7a643b85-a4ac-422c-bdd9-dd796456a0c7",
   "metadata": {
    "execution": {
     "iopub.execute_input": "2025-08-23T00:11:19.733259Z",
     "iopub.status.busy": "2025-08-23T00:11:19.732990Z",
     "iopub.status.idle": "2025-08-23T00:11:20.240536Z",
     "shell.execute_reply": "2025-08-23T00:11:20.239774Z",
     "shell.execute_reply.started": "2025-08-23T00:11:19.733244Z"
    }
   },
   "outputs": [
    {
     "name": "stdout",
     "output_type": "stream",
     "text": [
      "{'learning_rate': 0.4, 'max_depth': 6, 'n_estimators': 100}\n"
     ]
    },
    {
     "data": {
      "text/plain": [
       "0.8044666666666667"
      ]
     },
     "execution_count": 13,
     "metadata": {},
     "output_type": "execute_result"
    }
   ],
   "source": [
    "print(cv_grid.best_params_)\n",
    "xgb_model = cv_grid.best_estimator_\n",
    "xgb_model.score(x_test, y_test)"
   ]
  },
  {
   "cell_type": "markdown",
   "id": "7dd7026f-704b-4d1a-83de-f6428bd42090",
   "metadata": {},
   "source": [
    "## Classification Using CNN"
   ]
  },
  {
   "cell_type": "code",
   "execution_count": 4,
   "id": "5b1a9bdd-c2f4-431b-827b-3c0022efed55",
   "metadata": {
    "execution": {
     "iopub.execute_input": "2025-08-23T01:33:47.710596Z",
     "iopub.status.busy": "2025-08-23T01:33:47.710329Z",
     "iopub.status.idle": "2025-08-23T01:34:15.419748Z",
     "shell.execute_reply": "2025-08-23T01:34:15.418692Z",
     "shell.execute_reply.started": "2025-08-23T01:33:47.710582Z"
    }
   },
   "outputs": [
    {
     "name": "stderr",
     "output_type": "stream",
     "text": [
      "WARNING: All log messages before absl::InitializeLog() is called are written to STDERR\n",
      "I0000 00:00:1755912828.708346   28159 gpu_device.cc:2020] Created device /job:localhost/replica:0/task:0/device:GPU:0 with 3590 MB memory:  -> device: 0, name: NVIDIA RTX A2000, pci bus id: 0000:03:00.0, compute capability: 8.6\n"
     ]
    }
   ],
   "source": [
    "### Similarly prepare word-index vectorization for TF, for later. Doing this now because later in the notebook it causes OOM errors on 60k rows. Therefore doing it now and saving, and then loading from disk later\n",
    "# - (add note on how choices were made)\n",
    "# - (add note on deprecation of vectorizor method\n",
    "# - output_mode = int since the order of words in the text changes their context. Will use an Embedding layer for blah de blah.. why is the embedding layer important here? What does it do????\n",
    "# MOVE ABOVE TO A MARKDOWN CELL\n",
    "\n",
    "VOCAB_SIZE = 20000\n",
    "MAX_SEQUENCE_LENGTH = 1000\n",
    "# TRAIN_SET_SIZE = 60000\n",
    "\n",
    "int_vectorize_layer = TextVectorization(\n",
    "    max_tokens=VOCAB_SIZE,\n",
    "    output_mode='int',\n",
    "    output_sequence_length=MAX_SEQUENCE_LENGTH)\n",
    "\n",
    "# Hits OOM error with set size = 120000\n",
    "# Solution is to stream the records using a TFRecordDataset as described here https://www.tensorflow.org/tutorials/load_data/tfrecord\n",
    "# However, I'll reduce the size of the training set instead.\n",
    "int_vectorize_layer.adapt(x_train_raw['article'])"
   ]
  },
  {
   "cell_type": "code",
   "execution_count": 5,
   "id": "2f159da0-d20c-4688-8fe3-80580fe11426",
   "metadata": {
    "execution": {
     "iopub.execute_input": "2025-08-23T01:34:15.425740Z",
     "iopub.status.busy": "2025-08-23T01:34:15.425460Z",
     "iopub.status.idle": "2025-08-23T01:34:34.139796Z",
     "shell.execute_reply": "2025-08-23T01:34:34.139007Z",
     "shell.execute_reply.started": "2025-08-23T01:34:15.425722Z"
    }
   },
   "outputs": [],
   "source": [
    "# int_vectorize_layer.get_vocabulary()\n",
    "x_train_tf = int_vectorize_layer(x_train_raw['article'])\n",
    "x_test_tf = int_vectorize_layer(x_test_raw['article'])\n",
    "y_train_tf = tf.keras.utils.to_categorical(y_train)\n",
    "y_test_tf = tf.keras.utils.to_categorical(y_test)"
   ]
  },
  {
   "cell_type": "code",
   "execution_count": 6,
   "id": "0110a503-906c-4e35-88ab-52d47a1096c8",
   "metadata": {
    "execution": {
     "iopub.execute_input": "2025-08-23T01:34:34.140505Z",
     "iopub.status.busy": "2025-08-23T01:34:34.140354Z",
     "iopub.status.idle": "2025-08-23T01:34:34.167617Z",
     "shell.execute_reply": "2025-08-23T01:34:34.166672Z",
     "shell.execute_reply.started": "2025-08-23T01:34:34.140492Z"
    }
   },
   "outputs": [],
   "source": [
    "model = Sequential([\n",
    "    Embedding(VOCAB_SIZE, MAX_SEQUENCE_LENGTH),\n",
    "    Conv1D(filters=128, kernel_size=5, activation='relu'),\n",
    "    GlobalMaxPooling1D(),\n",
    "    Dense(64, activation='relu'),\n",
    "    Dropout(0.5),\n",
    "    Dense(5, activation='softmax')\n",
    "])\n",
    "\n",
    "model.compile(\n",
    "    optimizer='adam',\n",
    "    loss='categorical_crossentropy',\n",
    "    metrics=['accuracy'])"
   ]
  },
  {
   "cell_type": "code",
   "execution_count": 7,
   "id": "17de9fe7-0b29-4d1d-a600-492e7c85ba51",
   "metadata": {
    "execution": {
     "iopub.execute_input": "2025-08-23T01:34:34.168910Z",
     "iopub.status.busy": "2025-08-23T01:34:34.168670Z",
     "iopub.status.idle": "2025-08-23T01:47:18.133742Z",
     "shell.execute_reply": "2025-08-23T01:47:18.132866Z",
     "shell.execute_reply.started": "2025-08-23T01:34:34.168895Z"
    }
   },
   "outputs": [
    {
     "name": "stdout",
     "output_type": "stream",
     "text": [
      "Epoch 1/15\n"
     ]
    },
    {
     "name": "stderr",
     "output_type": "stream",
     "text": [
      "2025-08-22 18:34:36.808676: I external/local_xla/xla/service/service.cc:163] XLA service 0x717280004970 initialized for platform CUDA (this does not guarantee that XLA will be used). Devices:\n",
      "2025-08-22 18:34:36.808728: I external/local_xla/xla/service/service.cc:171]   StreamExecutor device (0): NVIDIA RTX A2000, Compute Capability 8.6\n",
      "2025-08-22 18:34:36.864530: I tensorflow/compiler/mlir/tensorflow/utils/dump_mlir_util.cc:269] disabling MLIR crash reproducer, set env var `MLIR_CRASH_REPRODUCER_DIRECTORY` to enable.\n",
      "2025-08-22 18:34:37.062600: I external/local_xla/xla/stream_executor/cuda/cuda_dnn.cc:473] Loaded cuDNN version 91200\n",
      "2025-08-22 18:34:37.183320: I external/local_xla/xla/service/gpu/autotuning/dot_search_space.cc:208] All configs were filtered out because none of them sufficiently match the hints. Maybe the hints set does not contain a good representative set of valid configs? Working around this by using the full hints set instead.\n",
      "2025-08-22 18:34:37.184017: I external/local_xla/xla/service/gpu/autotuning/dot_search_space.cc:208] All configs were filtered out because none of them sufficiently match the hints. Maybe the hints set does not contain a good representative set of valid configs? Working around this by using the full hints set instead.\n",
      "2025-08-22 18:34:37.941317: I external/local_xla/xla/stream_executor/cuda/subprocess_compilation.cc:346] ptxas warning : Registers are spilled to local memory in function 'gemm_fusion_dot_575', 24 bytes spill stores, 24 bytes spill loads\n",
      "\n",
      "2025-08-22 18:34:38.188970: I external/local_xla/xla/stream_executor/cuda/subprocess_compilation.cc:346] ptxas warning : Registers are spilled to local memory in function 'gemm_fusion_dot_842', 520 bytes spill stores, 520 bytes spill loads\n",
      "\n"
     ]
    },
    {
     "name": "stdout",
     "output_type": "stream",
     "text": [
      "\u001b[1m   3/1500\u001b[0m \u001b[37m━━━━━━━━━━━━━━━━━━━━\u001b[0m \u001b[1m1:33\u001b[0m 62ms/step - accuracy: 0.1267 - loss: 1.6632"
     ]
    },
    {
     "name": "stderr",
     "output_type": "stream",
     "text": [
      "I0000 00:00:1755912882.772485   28371 device_compiler.h:196] Compiled cluster using XLA!  This line is logged at most once for the lifetime of the process.\n"
     ]
    },
    {
     "name": "stdout",
     "output_type": "stream",
     "text": [
      "\u001b[1m1500/1500\u001b[0m \u001b[32m━━━━━━━━━━━━━━━━━━━━\u001b[0m\u001b[37m\u001b[0m \u001b[1m58s\u001b[0m 33ms/step - accuracy: 0.7460 - loss: 0.6605 - val_accuracy: 0.8503 - val_loss: 0.4040\n",
      "Epoch 2/15\n",
      "\u001b[1m1500/1500\u001b[0m \u001b[32m━━━━━━━━━━━━━━━━━━━━\u001b[0m\u001b[37m\u001b[0m \u001b[1m48s\u001b[0m 32ms/step - accuracy: 0.8894 - loss: 0.3191 - val_accuracy: 0.8716 - val_loss: 0.3699\n",
      "Epoch 3/15\n",
      "\u001b[1m1500/1500\u001b[0m \u001b[32m━━━━━━━━━━━━━━━━━━━━\u001b[0m\u001b[37m\u001b[0m \u001b[1m50s\u001b[0m 33ms/step - accuracy: 0.9427 - loss: 0.1688 - val_accuracy: 0.8737 - val_loss: 0.4181\n",
      "Epoch 4/15\n",
      "\u001b[1m1500/1500\u001b[0m \u001b[32m━━━━━━━━━━━━━━━━━━━━\u001b[0m\u001b[37m\u001b[0m \u001b[1m50s\u001b[0m 33ms/step - accuracy: 0.9685 - loss: 0.0925 - val_accuracy: 0.8702 - val_loss: 0.5196\n",
      "Epoch 5/15\n",
      "\u001b[1m1500/1500\u001b[0m \u001b[32m━━━━━━━━━━━━━━━━━━━━\u001b[0m\u001b[37m\u001b[0m \u001b[1m51s\u001b[0m 34ms/step - accuracy: 0.9763 - loss: 0.0716 - val_accuracy: 0.8731 - val_loss: 0.5291\n",
      "Epoch 6/15\n",
      "\u001b[1m1500/1500\u001b[0m \u001b[32m━━━━━━━━━━━━━━━━━━━━\u001b[0m\u001b[37m\u001b[0m \u001b[1m50s\u001b[0m 34ms/step - accuracy: 0.9802 - loss: 0.0613 - val_accuracy: 0.8741 - val_loss: 0.6040\n",
      "Epoch 7/15\n",
      "\u001b[1m1500/1500\u001b[0m \u001b[32m━━━━━━━━━━━━━━━━━━━━\u001b[0m\u001b[37m\u001b[0m \u001b[1m51s\u001b[0m 34ms/step - accuracy: 0.9825 - loss: 0.0524 - val_accuracy: 0.8685 - val_loss: 0.6822\n",
      "Epoch 8/15\n",
      "\u001b[1m1500/1500\u001b[0m \u001b[32m━━━━━━━━━━━━━━━━━━━━\u001b[0m\u001b[37m\u001b[0m \u001b[1m50s\u001b[0m 34ms/step - accuracy: 0.9865 - loss: 0.0433 - val_accuracy: 0.8720 - val_loss: 0.7009\n",
      "Epoch 9/15\n",
      "\u001b[1m1500/1500\u001b[0m \u001b[32m━━━━━━━━━━━━━━━━━━━━\u001b[0m\u001b[37m\u001b[0m \u001b[1m51s\u001b[0m 34ms/step - accuracy: 0.9867 - loss: 0.0422 - val_accuracy: 0.8741 - val_loss: 0.8148\n",
      "Epoch 10/15\n",
      "\u001b[1m1500/1500\u001b[0m \u001b[32m━━━━━━━━━━━━━━━━━━━━\u001b[0m\u001b[37m\u001b[0m \u001b[1m51s\u001b[0m 34ms/step - accuracy: 0.9875 - loss: 0.0407 - val_accuracy: 0.8707 - val_loss: 0.7509\n",
      "Epoch 11/15\n",
      "\u001b[1m1500/1500\u001b[0m \u001b[32m━━━━━━━━━━━━━━━━━━━━\u001b[0m\u001b[37m\u001b[0m \u001b[1m50s\u001b[0m 34ms/step - accuracy: 0.9887 - loss: 0.0366 - val_accuracy: 0.8765 - val_loss: 0.7506\n",
      "Epoch 12/15\n",
      "\u001b[1m1500/1500\u001b[0m \u001b[32m━━━━━━━━━━━━━━━━━━━━\u001b[0m\u001b[37m\u001b[0m \u001b[1m51s\u001b[0m 34ms/step - accuracy: 0.9894 - loss: 0.0372 - val_accuracy: 0.8659 - val_loss: 0.8381\n",
      "Epoch 13/15\n",
      "\u001b[1m1500/1500\u001b[0m \u001b[32m━━━━━━━━━━━━━━━━━━━━\u001b[0m\u001b[37m\u001b[0m \u001b[1m49s\u001b[0m 33ms/step - accuracy: 0.9920 - loss: 0.0289 - val_accuracy: 0.8774 - val_loss: 0.8704\n",
      "Epoch 14/15\n",
      "\u001b[1m1500/1500\u001b[0m \u001b[32m━━━━━━━━━━━━━━━━━━━━\u001b[0m\u001b[37m\u001b[0m \u001b[1m51s\u001b[0m 34ms/step - accuracy: 0.9902 - loss: 0.0320 - val_accuracy: 0.8694 - val_loss: 0.9490\n",
      "Epoch 15/15\n",
      "\u001b[1m1500/1500\u001b[0m \u001b[32m━━━━━━━━━━━━━━━━━━━━\u001b[0m\u001b[37m\u001b[0m \u001b[1m51s\u001b[0m 34ms/step - accuracy: 0.9916 - loss: 0.0277 - val_accuracy: 0.8708 - val_loss: 0.9572\n"
     ]
    },
    {
     "data": {
      "text/plain": [
       "<keras.src.callbacks.history.History at 0x7174f0824470>"
      ]
     },
     "execution_count": 7,
     "metadata": {},
     "output_type": "execute_result"
    }
   ],
   "source": [
    "model.fit(x_train_tf, y_train_tf, batch_size=32, epochs=15, validation_split=0.2)"
   ]
  },
  {
   "cell_type": "code",
   "execution_count": 9,
   "id": "3eb9d7c3-dccf-45a6-9929-a5768cbdfe06",
   "metadata": {
    "execution": {
     "iopub.execute_input": "2025-08-23T01:47:46.018823Z",
     "iopub.status.busy": "2025-08-23T01:47:46.018508Z",
     "iopub.status.idle": "2025-08-23T01:47:50.776184Z",
     "shell.execute_reply": "2025-08-23T01:47:50.775303Z",
     "shell.execute_reply.started": "2025-08-23T01:47:46.018808Z"
    }
   },
   "outputs": [
    {
     "name": "stdout",
     "output_type": "stream",
     "text": [
      "\u001b[1m469/469\u001b[0m \u001b[32m━━━━━━━━━━━━━━━━━━━━\u001b[0m\u001b[37m\u001b[0m \u001b[1m5s\u001b[0m 9ms/step - accuracy: 0.8705 - loss: 0.9456\n",
      "TF CNN Test Accuracy: 0.8705\n"
     ]
    }
   ],
   "source": [
    "tf_test_loss, tf_test_accuracy = model.evaluate(x_test_tf, y_test_tf)\n",
    "print(f\"TF CNN Test Accuracy: {tf_test_accuracy:.4f}\")"
   ]
  },
  {
   "cell_type": "code",
   "execution_count": 10,
   "id": "329b76de-c4fd-408b-8895-48baf7c6ab20",
   "metadata": {
    "execution": {
     "iopub.execute_input": "2025-08-23T01:48:09.480747Z",
     "iopub.status.busy": "2025-08-23T01:48:09.480500Z",
     "iopub.status.idle": "2025-08-23T01:48:09.483951Z",
     "shell.execute_reply": "2025-08-23T01:48:09.483194Z",
     "shell.execute_reply.started": "2025-08-23T01:48:09.480733Z"
    }
   },
   "outputs": [],
   "source": [
    "# Add visuals (accuracy vs. loss graph)\n",
    "# Add saving for best model (via callback)"
   ]
  },
  {
   "cell_type": "code",
   "execution_count": null,
   "id": "27107a96-9a1a-43c2-9eea-5cbbfc8378ed",
   "metadata": {},
   "outputs": [],
   "source": []
  }
 ],
 "metadata": {
  "kernelspec": {
   "display_name": "Python 3 (ipykernel)",
   "language": "python",
   "name": "python3"
  },
  "language_info": {
   "codemirror_mode": {
    "name": "ipython",
    "version": 3
   },
   "file_extension": ".py",
   "mimetype": "text/x-python",
   "name": "python",
   "nbconvert_exporter": "python",
   "pygments_lexer": "ipython3",
   "version": "3.12.3"
  }
 },
 "nbformat": 4,
 "nbformat_minor": 5
}
